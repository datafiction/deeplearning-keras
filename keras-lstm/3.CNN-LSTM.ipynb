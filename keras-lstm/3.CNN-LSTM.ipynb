{
 "cells": [
  {
   "cell_type": "markdown",
   "metadata": {},
   "source": [
    "# 3. CNN-LSTM\n",
    "\n",
    "Many to One Prediction Model"
   ]
  },
  {
   "cell_type": "markdown",
   "metadata": {},
   "source": [
    "------"
   ]
  },
  {
   "cell_type": "code",
   "execution_count": 33,
   "metadata": {
    "collapsed": true
   },
   "outputs": [],
   "source": [
    "from numpy import zeros\n",
    "from random import randint\n",
    "from random import random\n",
    "from matplotlib import pyplot\n",
    "from numpy import array"
   ]
  },
  {
   "cell_type": "markdown",
   "metadata": {},
   "source": [
    "------"
   ]
  },
  {
   "cell_type": "markdown",
   "metadata": {},
   "source": [
    "#### GenerateFrames"
   ]
  },
  {
   "cell_type": "markdown",
   "metadata": {},
   "source": [
    "* Generate the next frame in the sequence"
   ]
  },
  {
   "cell_type": "code",
   "execution_count": 34,
   "metadata": {
    "collapsed": true
   },
   "outputs": [],
   "source": [
    "def next_frame(last_step, last_frame, column):\n",
    "  # define the scope of the next step\n",
    "  lower = max(0, last_step-1)\n",
    "  upper = min(last_frame.shape[0]-1, last_step+1)\n",
    "  # choose the row index for the next step\n",
    "  step = randint(lower, upper)\n",
    "  # copy the prior frame\n",
    "  frame = last_frame.copy()\n",
    "  # add the new step\n",
    "  frame[step, column] = 1\n",
    "  return frame, step"
   ]
  },
  {
   "cell_type": "markdown",
   "metadata": {},
   "source": [
    "* Generate a sequence of frames of a dot moving across an image"
   ]
  },
  {
   "cell_type": "code",
   "execution_count": 35,
   "metadata": {
    "collapsed": true
   },
   "outputs": [],
   "source": [
    "def build_frames(size):\n",
    "    \n",
    "  frames = list()\n",
    "\n",
    "  # create the first frame\n",
    "  frame = zeros((size,size))\n",
    "  step = randint(0, size-1)\n",
    "    \n",
    "  # decide if we are heading left or right\n",
    "  right = 1 if random() < 0.5 else 0\n",
    "  col = 0 if right else size-1\n",
    "  frame[step, col] = 1\n",
    "  frames.append(frame)\n",
    "\n",
    "  # create all remaining frames\n",
    "  for i in range(1, size):\n",
    "    col = i if right else size-1-i\n",
    "    frame, step = next_frame(step, frame, col)\n",
    "    frames.append(frame)\n",
    "  return frames, right"
   ]
  },
  {
   "cell_type": "markdown",
   "metadata": {},
   "source": [
    "* Generate sequence of frames"
   ]
  },
  {
   "cell_type": "code",
   "execution_count": 36,
   "metadata": {},
   "outputs": [
    {
     "name": "stdout",
     "output_type": "stream",
     "text": [
      "[[ 0.  0.  0.  0.  0.]\n",
      " [ 0.  0.  0.  0.  0.]\n",
      " [ 0.  0.  0.  0.  1.]\n",
      " [ 0.  0.  0.  0.  0.]\n",
      " [ 0.  0.  0.  0.  0.]]\n",
      "[[ 0.  0.  0.  0.  0.]\n",
      " [ 0.  0.  0.  0.  0.]\n",
      " [ 0.  0.  0.  1.  1.]\n",
      " [ 0.  0.  0.  0.  0.]\n",
      " [ 0.  0.  0.  0.  0.]]\n",
      "[[ 0.  0.  0.  0.  0.]\n",
      " [ 0.  0.  0.  0.  0.]\n",
      " [ 0.  0.  0.  1.  1.]\n",
      " [ 0.  0.  1.  0.  0.]\n",
      " [ 0.  0.  0.  0.  0.]]\n",
      "[[ 0.  0.  0.  0.  0.]\n",
      " [ 0.  0.  0.  0.  0.]\n",
      " [ 0.  1.  0.  1.  1.]\n",
      " [ 0.  0.  1.  0.  0.]\n",
      " [ 0.  0.  0.  0.  0.]]\n",
      "[[ 0.  0.  0.  0.  0.]\n",
      " [ 0.  0.  0.  0.  0.]\n",
      " [ 0.  1.  0.  1.  1.]\n",
      " [ 1.  0.  1.  0.  0.]\n",
      " [ 0.  0.  0.  0.  0.]]\n"
     ]
    },
    {
     "data": {
      "image/png": "[encoded data removed]",
      "text/plain": [
       "<matplotlib.figure.Figure at 0x120bdf588>"
      ]
     },
     "metadata": {},
     "output_type": "display_data"
    }
   ],
   "source": [
    "size = 5\n",
    "frames, right = build_frames(size)\n",
    "# plot all frames\n",
    "pyplot.figure()\n",
    "for i in range(size):\n",
    "    print(frames[i])\n",
    "    # create a gray scale subplot for each frame\n",
    "    pyplot.subplot(1, size, i+1) \n",
    "    pyplot.imshow(frames[i], cmap='Greys') \n",
    "    # turn of the scale to make it clearer \n",
    "    ax = pyplot.gca() \n",
    "    ax.get_xaxis().set_visible(False) \n",
    "    ax.get_yaxis().set_visible(False)\n",
    "# show the plot\n",
    "pyplot.show()"
   ]
  },
  {
   "cell_type": "markdown",
   "metadata": {},
   "source": [
    "* Generate multiple sequences of frames and reshape for network input"
   ]
  },
  {
   "cell_type": "code",
   "execution_count": 37,
   "metadata": {
    "collapsed": true
   },
   "outputs": [],
   "source": [
    "def generate_examples(size, n_patterns):\n",
    "  X, y = list(), list()\n",
    "  for _ in range(n_patterns):\n",
    "    frames, right = build_frames(size)\n",
    "    X.append(frames)\n",
    "    y.append(right)\n",
    "  # resize as [samples, timesteps, width, height, channels]\n",
    "  X = array(X).reshape(n_patterns, size, size, size, 1)\n",
    "  y = array(y).reshape(n_patterns, 1)\n",
    "  return X, y"
   ]
  },
  {
   "cell_type": "markdown",
   "metadata": {},
   "source": [
    "### Model"
   ]
  },
  {
   "cell_type": "code",
   "execution_count": 38,
   "metadata": {},
   "outputs": [],
   "source": [
    "from keras.models import Sequential\n",
    "from keras.layers import Conv2D\n",
    "from keras.layers import MaxPooling2D\n",
    "from keras.layers import LSTM\n",
    "from keras.layers import Dense\n",
    "from keras.layers import Flatten\n",
    "from keras.layers import TimeDistributed"
   ]
  },
  {
   "cell_type": "code",
   "execution_count": 39,
   "metadata": {},
   "outputs": [
    {
     "name": "stdout",
     "output_type": "stream",
     "text": [
      "_________________________________________________________________\n",
      "Layer (type)                 Output Shape              Param #   \n",
      "=================================================================\n",
      "time_distributed_18 (TimeDis (None, None, 49, 49, 2)   10        \n",
      "_________________________________________________________________\n",
      "time_distributed_19 (TimeDis (None, None, 24, 24, 2)   0         \n",
      "_________________________________________________________________\n",
      "time_distributed_20 (TimeDis (None, None, 1152)        0         \n",
      "_________________________________________________________________\n",
      "lstm_6 (LSTM)                (None, 50)                240600    \n",
      "_________________________________________________________________\n",
      "dense_6 (Dense)              (None, 1)                 51        \n",
      "=================================================================\n",
      "Total params: 240,661\n",
      "Trainable params: 240,661\n",
      "Non-trainable params: 0\n",
      "_________________________________________________________________\n",
      "None\n"
     ]
    }
   ],
   "source": [
    "# define the model\n",
    "model = Sequential()\n",
    "# configure problem\n",
    "size = 50\n",
    "             \n",
    "\n",
    "model.add(TimeDistributed(Conv2D(2, (2,2),\n",
    "                          activation='relu'),\n",
    "                          input_shape=(None,size,size,1)))\n",
    "\n",
    "model.add(TimeDistributed(MaxPooling2D(pool_size=(2, 2))))\n",
    "\n",
    "model.add(TimeDistributed(Flatten()))\n",
    "\n",
    "model.add(LSTM(50))\n",
    "\n",
    "model.add(Dense(1, activation='sigmoid')) \n",
    "\n",
    "model.compile(loss='binary_crossentropy',\\\n",
    "              optimizer='adam', \\\n",
    "              metrics=['acc']) \n",
    "\n",
    "\n",
    "print(model.summary())"
   ]
  },
  {
   "cell_type": "code",
   "execution_count": 40,
   "metadata": {},
   "outputs": [
    {
     "name": "stdout",
     "output_type": "stream",
     "text": [
      "Epoch 1/10\n",
      "500/500 [==============================] - 7s - loss: 0.6910 - acc: 0.5400     \n",
      "Epoch 2/10\n",
      "500/500 [==============================] - 6s - loss: 0.4606 - acc: 0.8460     \n",
      "Epoch 3/10\n",
      "500/500 [==============================] - 6s - loss: 0.0647 - acc: 0.9940     \n",
      "Epoch 4/10\n",
      "500/500 [==============================] - 6s - loss: 0.2872 - acc: 0.9360     \n",
      "Epoch 5/10\n",
      "500/500 [==============================] - 6s - loss: 0.0821 - acc: 0.9860     \n",
      "Epoch 6/10\n",
      "500/500 [==============================] - 6s - loss: 0.0296 - acc: 1.0000     \n",
      "Epoch 7/10\n",
      "500/500 [==============================] - 6s - loss: 0.0118 - acc: 1.0000     \n",
      "Epoch 8/10\n",
      "500/500 [==============================] - 6s - loss: 0.0063 - acc: 1.0000     \n",
      "Epoch 9/10\n",
      "500/500 [==============================] - 6s - loss: 0.0109 - acc: 0.9980     \n",
      "Epoch 10/10\n",
      "500/500 [==============================] - 6s - loss: 0.0035 - acc: 1.0000     \n"
     ]
    },
    {
     "data": {
      "text/plain": [
       "<keras.callbacks.History at 0x121eff780>"
      ]
     },
     "execution_count": 40,
     "metadata": {},
     "output_type": "execute_result"
    }
   ],
   "source": [
    "# fit model\n",
    "X, y = generate_examples(size, 500)\n",
    "model.fit(X, y, batch_size=32, epochs=10)"
   ]
  },
  {
   "cell_type": "code",
   "execution_count": 41,
   "metadata": {},
   "outputs": [
    {
     "name": "stdout",
     "output_type": "stream",
     "text": [
      "loss: 0.003618, acc: 100.000000\n"
     ]
    }
   ],
   "source": [
    "# evaluate model\n",
    "X, y = generate_examples(size, 100)\n",
    "loss, acc = model.evaluate(X, y, verbose=0) \n",
    "print('loss: %f, acc: %f' % (loss, acc*100))"
   ]
  },
  {
   "cell_type": "code",
   "execution_count": 42,
   "metadata": {},
   "outputs": [
    {
     "name": "stdout",
     "output_type": "stream",
     "text": [
      "Expected: Left, Predicted: Left\n"
     ]
    }
   ],
   "source": [
    "# prediction on new data\n",
    "X, y = generate_examples(size, 1)\n",
    "yhat = model.predict_classes(X, verbose=0)\n",
    "expected = \"Right\" if y[0]==1 else \"Left\"\n",
    "predicted = \"Right\" if yhat[0]==1 else \"Left\" \n",
    "print('Expected: %s, Predicted: %s' % (expected, predicted))"
   ]
  },
  {
   "cell_type": "code",
   "execution_count": null,
   "metadata": {
    "collapsed": true
   },
   "outputs": [],
   "source": []
  }
 ],
 "metadata": {
  "kernelspec": {
   "display_name": "Python 3",
   "language": "python",
   "name": "python3"
  },
  "language_info": {
   "codemirror_mode": {
    "name": "ipython",
    "version": 3
   },
   "file_extension": ".py",
   "mimetype": "text/x-python",
   "name": "python",
   "nbconvert_exporter": "python",
   "pygments_lexer": "ipython3",
   "version": "3.5.2"
  },
  "widgets": {
   "state": {},
   "version": "1.1.2"
  }
 },
 "nbformat": 4,
 "nbformat_minor": 2
}
